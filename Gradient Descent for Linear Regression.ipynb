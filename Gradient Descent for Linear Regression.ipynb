{
 "cells": [
  {
   "cell_type": "code",
   "execution_count": 1,
   "id": "396518ad",
   "metadata": {},
   "outputs": [],
   "source": [
    "from sklearn.datasets import make_regression\n",
    "import numpy as np"
   ]
  },
  {
   "cell_type": "code",
   "execution_count": 2,
   "id": "05477137",
   "metadata": {},
   "outputs": [],
   "source": [
    "X,y=make_regression(n_samples=4,n_features=1,random_state=42,noise=7)"
   ]
  },
  {
   "cell_type": "code",
   "execution_count": 3,
   "id": "82831f7d",
   "metadata": {
    "scrolled": true
   },
   "outputs": [
    {
     "data": {
      "text/plain": [
       "array([[ 0.64768854],\n",
       "       [-0.1382643 ],\n",
       "       [ 1.52302986],\n",
       "       [ 0.49671415]])"
      ]
     },
     "execution_count": 3,
     "metadata": {},
     "output_type": "execute_result"
    }
   ],
   "source": [
    "X"
   ]
  },
  {
   "cell_type": "code",
   "execution_count": 4,
   "id": "49bf9b31",
   "metadata": {},
   "outputs": [
    {
     "data": {
      "text/plain": [
       "array([ 6.03900158,  4.91642616, 20.0859161 ,  9.70295573])"
      ]
     },
     "execution_count": 4,
     "metadata": {},
     "output_type": "execute_result"
    }
   ],
   "source": [
    "y"
   ]
  },
  {
   "cell_type": "code",
   "execution_count": 5,
   "id": "b039fab8",
   "metadata": {},
   "outputs": [
    {
     "data": {
      "text/plain": [
       "<matplotlib.collections.PathCollection at 0x2a47307a3b0>"
      ]
     },
     "execution_count": 5,
     "metadata": {},
     "output_type": "execute_result"
    },
    {
     "data": {
      "image/png": "[encoded data removed]",
      "text/plain": [
       "<Figure size 400x200 with 1 Axes>"
      ]
     },
     "metadata": {},
     "output_type": "display_data"
    }
   ],
   "source": [
    "import matplotlib.pyplot as plt\n",
    "plt.figure(figsize=(4,2))\n",
    "plt.scatter(X,y)"
   ]
  },
  {
   "cell_type": "code",
   "execution_count": 6,
   "id": "c9e45adf",
   "metadata": {},
   "outputs": [],
   "source": [
    "from sklearn.linear_model import LinearRegression"
   ]
  },
  {
   "cell_type": "code",
   "execution_count": 7,
   "id": "f20e5515",
   "metadata": {},
   "outputs": [],
   "source": [
    "ml=LinearRegression()"
   ]
  },
  {
   "cell_type": "code",
   "execution_count": 8,
   "id": "2d47dd59",
   "metadata": {},
   "outputs": [
    {
     "data": {
      "text/html": [
       "<style>#sk-container-id-1 {color: black;}#sk-container-id-1 pre{padding: 0;}#sk-container-id-1 div.sk-toggleable {background-color: white;}#sk-container-id-1 label.sk-toggleable__label {cursor: pointer;display: block;width: 100%;margin-bottom: 0;padding: 0.3em;box-sizing: border-box;text-align: center;}#sk-container-id-1 label.sk-toggleable__label-arrow:before {content: \"▸\";float: left;margin-right: 0.25em;color: #696969;}#sk-container-id-1 label.sk-toggleable__label-arrow:hover:before {color: black;}#sk-container-id-1 div.sk-estimator:hover label.sk-toggleable__label-arrow:before {color: black;}#sk-container-id-1 div.sk-toggleable__content {max-height: 0;max-width: 0;overflow: hidden;text-align: left;background-color: #f0f8ff;}#sk-container-id-1 div.sk-toggleable__content pre {margin: 0.2em;color: black;border-radius: 0.25em;background-color: #f0f8ff;}#sk-container-id-1 input.sk-toggleable__control:checked~div.sk-toggleable__content {max-height: 200px;max-width: 100%;overflow: auto;}#sk-container-id-1 input.sk-toggleable__control:checked~label.sk-toggleable__label-arrow:before {content: \"▾\";}#sk-container-id-1 div.sk-estimator input.sk-toggleable__control:checked~label.sk-toggleable__label {background-color: #d4ebff;}#sk-container-id-1 div.sk-label input.sk-toggleable__control:checked~label.sk-toggleable__label {background-color: #d4ebff;}#sk-container-id-1 input.sk-hidden--visually {border: 0;clip: rect(1px 1px 1px 1px);clip: rect(1px, 1px, 1px, 1px);height: 1px;margin: -1px;overflow: hidden;padding: 0;position: absolute;width: 1px;}#sk-container-id-1 div.sk-estimator {font-family: monospace;background-color: #f0f8ff;border: 1px dotted black;border-radius: 0.25em;box-sizing: border-box;margin-bottom: 0.5em;}#sk-container-id-1 div.sk-estimator:hover {background-color: #d4ebff;}#sk-container-id-1 div.sk-parallel-item::after {content: \"\";width: 100%;border-bottom: 1px solid gray;flex-grow: 1;}#sk-container-id-1 div.sk-label:hover label.sk-toggleable__label {background-color: #d4ebff;}#sk-container-id-1 div.sk-serial::before {content: \"\";position: absolute;border-left: 1px solid gray;box-sizing: border-box;top: 0;bottom: 0;left: 50%;z-index: 0;}#sk-container-id-1 div.sk-serial {display: flex;flex-direction: column;align-items: center;background-color: white;padding-right: 0.2em;padding-left: 0.2em;position: relative;}#sk-container-id-1 div.sk-item {position: relative;z-index: 1;}#sk-container-id-1 div.sk-parallel {display: flex;align-items: stretch;justify-content: center;background-color: white;position: relative;}#sk-container-id-1 div.sk-item::before, #sk-container-id-1 div.sk-parallel-item::before {content: \"\";position: absolute;border-left: 1px solid gray;box-sizing: border-box;top: 0;bottom: 0;left: 50%;z-index: -1;}#sk-container-id-1 div.sk-parallel-item {display: flex;flex-direction: column;z-index: 1;position: relative;background-color: white;}#sk-container-id-1 div.sk-parallel-item:first-child::after {align-self: flex-end;width: 50%;}#sk-container-id-1 div.sk-parallel-item:last-child::after {align-self: flex-start;width: 50%;}#sk-container-id-1 div.sk-parallel-item:only-child::after {width: 0;}#sk-container-id-1 div.sk-dashed-wrapped {border: 1px dashed gray;margin: 0 0.4em 0.5em 0.4em;box-sizing: border-box;padding-bottom: 0.4em;background-color: white;}#sk-container-id-1 div.sk-label label {font-family: monospace;font-weight: bold;display: inline-block;line-height: 1.2em;}#sk-container-id-1 div.sk-label-container {text-align: center;}#sk-container-id-1 div.sk-container {/* jupyter's `normalize.less` sets `[hidden] { display: none; }` but bootstrap.min.css set `[hidden] { display: none !important; }` so we also need the `!important` here to be able to override the default hidden behavior on the sphinx rendered scikit-learn.org. See: https://github.com/scikit-learn/scikit-learn/issues/21755 */display: inline-block !important;position: relative;}#sk-container-id-1 div.sk-text-repr-fallback {display: none;}</style><div id=\"sk-container-id-1\" class=\"sk-top-container\"><div class=\"sk-text-repr-fallback\"><pre>LinearRegression()</pre><b>In a Jupyter environment, please rerun this cell to show the HTML representation or trust the notebook. <br />On GitHub, the HTML representation is unable to render, please try loading this page with nbviewer.org.</b></div><div class=\"sk-container\" hidden><div class=\"sk-item\"><div class=\"sk-estimator sk-toggleable\"><input class=\"sk-toggleable__control sk-hidden--visually\" id=\"sk-estimator-id-1\" type=\"checkbox\" checked><label for=\"sk-estimator-id-1\" class=\"sk-toggleable__label sk-toggleable__label-arrow\">LinearRegression</label><div class=\"sk-toggleable__content\"><pre>LinearRegression()</pre></div></div></div></div></div>"
      ],
      "text/plain": [
       "LinearRegression()"
      ]
     },
     "execution_count": 8,
     "metadata": {},
     "output_type": "execute_result"
    }
   ],
   "source": [
    "ml.fit(X,y)"
   ]
  },
  {
   "cell_type": "code",
   "execution_count": 9,
   "id": "c790fce4",
   "metadata": {},
   "outputs": [
    {
     "name": "stdout",
     "output_type": "stream",
     "text": [
      "[9.16237847]\n",
      "4.392775722074516\n"
     ]
    }
   ],
   "source": [
    "print(ml.coef_)\n",
    "print(ml.intercept_)"
   ]
  },
  {
   "cell_type": "code",
   "execution_count": 10,
   "id": "21bca655",
   "metadata": {
    "scrolled": true
   },
   "outputs": [
    {
     "data": {
      "text/plain": [
       "[<matplotlib.lines.Line2D at 0x2a4754a3760>]"
      ]
     },
     "execution_count": 10,
     "metadata": {},
     "output_type": "execute_result"
    },
    {
     "data": {
      "image/png": "[encoded data removed]",
      "text/plain": [
       "<Figure size 400x300 with 1 Axes>"
      ]
     },
     "metadata": {},
     "output_type": "display_data"
    }
   ],
   "source": [
    "plt.figure(figsize=(4,3))\n",
    "plt.scatter(X,y)\n",
    "plt.plot(X,ml.predict(X),color='red')"
   ]
  },
  {
   "cell_type": "markdown",
   "id": "9957c28b",
   "metadata": {},
   "source": [
    "# Making our own Model"
   ]
  },
  {
   "cell_type": "markdown",
   "id": "1bc6eac6",
   "metadata": {},
   "source": [
    "## Assume we already know 'm'"
   ]
  },
  {
   "cell_type": "code",
   "execution_count": 52,
   "id": "b1eb52d1",
   "metadata": {},
   "outputs": [],
   "source": [
    "m=9.16\n",
    "b=0"
   ]
  },
  {
   "cell_type": "code",
   "execution_count": 53,
   "id": "204bff39",
   "metadata": {},
   "outputs": [],
   "source": [
    "loss_function=np.sum((y-X*m-b)**2)"
   ]
  },
  {
   "cell_type": "code",
   "execution_count": 54,
   "id": "25101c67",
   "metadata": {},
   "outputs": [
    {
     "name": "stdout",
     "output_type": "stream",
     "text": [
      "1353.60018734255\n"
     ]
    }
   ],
   "source": [
    "print(loss_function)"
   ]
  },
  {
   "cell_type": "markdown",
   "id": "a3820840",
   "metadata": {},
   "source": [
    "## 1 Demo Iteration"
   ]
  },
  {
   "cell_type": "code",
   "execution_count": 55,
   "id": "4952b957",
   "metadata": {},
   "outputs": [],
   "source": [
    "b=b-(2*(np.sum(y-X*m-b)))*0.1"
   ]
  },
  {
   "cell_type": "code",
   "execution_count": 56,
   "id": "c14d3e02",
   "metadata": {
    "scrolled": true
   },
   "outputs": [
    {
     "data": {
      "text/plain": [
       "-14.061694750905515"
      ]
     },
     "execution_count": 56,
     "metadata": {},
     "output_type": "execute_result"
    }
   ],
   "source": [
    "b"
   ]
  },
  {
   "cell_type": "markdown",
   "id": "310ef57b",
   "metadata": {},
   "source": [
    "### b before = 0\n",
    "### b after    = 14.06    \n",
    "### Biggest jump!!"
   ]
  },
  {
   "cell_type": "code",
   "execution_count": 57,
   "id": "7cb3d5bf",
   "metadata": {},
   "outputs": [
    {
     "data": {
      "text/plain": [
       "[<matplotlib.lines.Line2D at 0x2a476a28c40>]"
      ]
     },
     "execution_count": 57,
     "metadata": {},
     "output_type": "execute_result"
    },
    {
     "data": {
      "image/png": "[encoded data removed]",
      "text/plain": [
       "<Figure size 400x300 with 1 Axes>"
      ]
     },
     "metadata": {},
     "output_type": "display_data"
    }
   ],
   "source": [
    "plt.figure(figsize=(4,3))\n",
    "plt.scatter(X,y)\n",
    "plt.plot(X,ml.predict(X),color='red')\n",
    "plt.plot(X,X*m+b,color='green')"
   ]
  },
  {
   "cell_type": "code",
   "execution_count": 58,
   "id": "7f10d4c8",
   "metadata": {},
   "outputs": [
    {
     "name": "stdout",
     "output_type": "stream",
     "text": [
      "-8.155782955525199\n",
      "-4.139762934666583\n",
      "-1.4088693204827254\n",
      "0.44813833716229867\n",
      "1.7109035443609146\n",
      "2.569583885255974\n",
      "3.1534865170646142\n",
      "3.550540306694489\n",
      "3.8205368836428044\n",
      "4.004134555967658\n",
      "4.128980973148559\n",
      "4.213876536831572\n",
      "4.271605520136021\n",
      "4.310861228783046\n",
      "4.337555110663023\n"
     ]
    }
   ],
   "source": [
    "for i in range(15):\n",
    "    b=b-(-2*(np.sum(y-X*m-b)))*0.01\n",
    "    print(b)"
   ]
  },
  {
   "cell_type": "code",
   "execution_count": 59,
   "id": "cb60cc42",
   "metadata": {
    "scrolled": true
   },
   "outputs": [
    {
     "data": {
      "text/plain": [
       "[<matplotlib.lines.Line2D at 0x2a476a86920>]"
      ]
     },
     "execution_count": 59,
     "metadata": {},
     "output_type": "execute_result"
    },
    {
     "data": {
      "image/png": "[encoded data removed]",
      "text/plain": [
       "<Figure size 500x300 with 1 Axes>"
      ]
     },
     "metadata": {},
     "output_type": "display_data"
    }
   ],
   "source": [
    "plt.figure(figsize=(5,3))\n",
    "plt.scatter(X,y)\n",
    "plt.plot(X,ml.predict(X),color='red')\n",
    "plt.plot(X,X*m+b,color='blue')\n",
    "plt.plot(X,X*m+14.06,color='green')"
   ]
  },
  {
   "cell_type": "markdown",
   "id": "2e5ac175",
   "metadata": {},
   "source": [
    "## Red line is missing?!"
   ]
  },
  {
   "cell_type": "markdown",
   "id": "cc4ae3ee",
   "metadata": {},
   "source": [
    "\n",
    "## NO ...Its under our Blue line!!"
   ]
  },
  {
   "cell_type": "markdown",
   "id": "2901f4bf",
   "metadata": {},
   "source": [
    "## Which means 'our' blue line is exact replica of 'there' red line!"
   ]
  },
  {
   "cell_type": "markdown",
   "id": "60d5a631",
   "metadata": {},
   "source": [
    "## Ham Jeet Gaye !! Yeyy"
   ]
  },
  {
   "cell_type": "markdown",
   "id": "8076ca96",
   "metadata": {},
   "source": [
    "# "
   ]
  },
  {
   "cell_type": "markdown",
   "id": "d19236dd",
   "metadata": {},
   "source": [
    "# Now lets assume we dont know slope too that is we dont know 'm' and 'b' both"
   ]
  },
  {
   "cell_type": "code",
   "execution_count": 60,
   "id": "23003119",
   "metadata": {},
   "outputs": [],
   "source": [
    "b=0\n",
    "m=0"
   ]
  },
  {
   "cell_type": "code",
   "execution_count": 61,
   "id": "fe131c05",
   "metadata": {
    "scrolled": true
   },
   "outputs": [
    {
     "data": {
      "text/plain": [
       "[<matplotlib.lines.Line2D at 0x2a476affe80>]"
      ]
     },
     "execution_count": 61,
     "metadata": {},
     "output_type": "execute_result"
    },
    {
     "data": {
      "image/png": "[encoded data removed]",
      "text/plain": [
       "<Figure size 500x300 with 1 Axes>"
      ]
     },
     "metadata": {},
     "output_type": "display_data"
    }
   ],
   "source": [
    "plt.figure(figsize=(5,3))\n",
    "plt.scatter(X,y)\n",
    "plt.plot(X,ml.predict(X),color='red')\n",
    "plt.plot(X,X*m+b,color='blue')"
   ]
  },
  {
   "cell_type": "markdown",
   "id": "9d17e22e",
   "metadata": {},
   "source": [
    "## Our line is completely flat..;)"
   ]
  },
  {
   "cell_type": "code",
   "execution_count": 62,
   "id": "240b15cb",
   "metadata": {},
   "outputs": [],
   "source": [
    "loss_function=np.sum((y-X*m+b)**2)"
   ]
  },
  {
   "cell_type": "code",
   "execution_count": 63,
   "id": "ccbc14af",
   "metadata": {},
   "outputs": [
    {
     "name": "stdout",
     "output_type": "stream",
     "text": [
      "2232.928647708146\n"
     ]
    }
   ],
   "source": [
    "print(loss_function)"
   ]
  },
  {
   "cell_type": "markdown",
   "id": "5ba04966",
   "metadata": {},
   "source": [
    "## Slope of 'm'  w.r.t.  loss_funtion"
   ]
  },
  {
   "cell_type": "code",
   "execution_count": 64,
   "id": "e3932120",
   "metadata": {},
   "outputs": [],
   "source": [
    "slope_m=2*np.sum((y-X*m-b)*-X)"
   ]
  },
  {
   "cell_type": "code",
   "execution_count": 65,
   "id": "caab1895",
   "metadata": {},
   "outputs": [
    {
     "name": "stdout",
     "output_type": "stream",
     "text": [
      "-206.09837741056685\n"
     ]
    }
   ],
   "source": [
    "print(slope_m)"
   ]
  },
  {
   "cell_type": "code",
   "execution_count": 66,
   "id": "321afb29",
   "metadata": {},
   "outputs": [],
   "source": [
    "## Update function\n",
    "m=m-slope_m*0.1"
   ]
  },
  {
   "cell_type": "code",
   "execution_count": 67,
   "id": "4a0d7587",
   "metadata": {},
   "outputs": [
    {
     "name": "stdout",
     "output_type": "stream",
     "text": [
      "20.609837741056687\n"
     ]
    }
   ],
   "source": [
    "print(m)"
   ]
  },
  {
   "cell_type": "code",
   "execution_count": 68,
   "id": "eb9472cf",
   "metadata": {
    "scrolled": true
   },
   "outputs": [
    {
     "data": {
      "text/plain": [
       "[<matplotlib.lines.Line2D at 0x2a476b7f5b0>]"
      ]
     },
     "execution_count": 68,
     "metadata": {},
     "output_type": "execute_result"
    },
    {
     "data": {
      "image/png": "[encoded data removed]",
      "text/plain": [
       "<Figure size 500x300 with 1 Axes>"
      ]
     },
     "metadata": {},
     "output_type": "display_data"
    }
   ],
   "source": [
    "plt.figure(figsize=(5,3))\n",
    "plt.scatter(X,y)\n",
    "plt.plot(X,ml.predict(X),color='red')\n",
    "plt.plot(X,X*m+b,color='blue')"
   ]
  },
  {
   "cell_type": "markdown",
   "id": "46d63afb",
   "metadata": {},
   "source": [
    "## Woah! now our line is somewhat prooving to be worthy..!"
   ]
  },
  {
   "cell_type": "markdown",
   "id": "b3b0afbb",
   "metadata": {},
   "source": [
    "### Lets do one thing, first lets fit the line based on only 'm', and then with 'b' to know what happens"
   ]
  },
  {
   "cell_type": "code",
   "execution_count": 69,
   "id": "ff19f07f",
   "metadata": {},
   "outputs": [
    {
     "name": "stdout",
     "output_type": "stream",
     "text": [
      "-8.325753723216867\n",
      "32.298945214583355\n",
      "-24.736908565167255\n",
      "55.33971234384774\n",
      "-57.08545167609789\n",
      "100.75609260276083\n",
      "-120.84868171551257\n",
      "190.27774716618018\n",
      "-246.53438852205778\n",
      "366.73669413827776\n",
      "-494.2774355053447\n",
      "714.5604706128604\n",
      "-982.61154196849\n",
      "1400.1668485097573\n",
      "-1945.182247540082\n"
     ]
    }
   ],
   "source": [
    "for i in range(15):\n",
    "    slope_m=2*np.sum((y-X*m-b)*-X)\n",
    "    m=m-(slope_m)*0.1\n",
    "    print(m)"
   ]
  },
  {
   "cell_type": "markdown",
   "id": "f3606624",
   "metadata": {},
   "source": [
    "## You probably know whats happening..\n",
    "## Instead of getting a nearly exact number like we got previously for 'b' , we are getting a value that jumps from '-'negative to '+'positive side .. and even worse the jumps are getting longer and longer each time...;))"
   ]
  },
  {
   "cell_type": "markdown",
   "id": "f5723c3a",
   "metadata": {},
   "source": [
    "# No worries!!"
   ]
  },
  {
   "cell_type": "markdown",
   "id": "d1f2a3a5",
   "metadata": {},
   "source": [
    "# This is a sign that our learning rate which is 0.1 now, is too high for our little rabbit.. so lets do 0.01"
   ]
  },
  {
   "cell_type": "code",
   "execution_count": 70,
   "id": "ed4e98a6",
   "metadata": {},
   "outputs": [
    {
     "name": "stdout",
     "output_type": "stream",
     "text": [
      "0\n",
      "-1945.182247540082\n"
     ]
    }
   ],
   "source": [
    "# First lets see which was last values for m and b\n",
    "print(b)\n",
    "print(m)"
   ]
  },
  {
   "cell_type": "markdown",
   "id": "8ecf1cb9",
   "metadata": {},
   "source": [
    "## Okay now instead of setting m=0 again, lets start with current value which is -1945.18 and go to perfect value"
   ]
  },
  {
   "cell_type": "code",
   "execution_count": 71,
   "id": "89cc58e7",
   "metadata": {},
   "outputs": [
    {
     "name": "stdout",
     "output_type": "stream",
     "text": [
      "-1475.5053099296456\n",
      "-1118.7372935544188\n",
      "-847.7352338069447\n",
      "-641.8812530226035\n",
      "-485.51394923071814\n",
      "-366.73687432557415\n",
      "-276.5134504965172\n",
      "-207.97946602233725\n",
      "-155.92084500606774\n",
      "-116.37695969269299\n",
      "-86.33930531094057\n",
      "-63.522612575579984\n",
      "-46.19098405480851\n",
      "-33.025826831277534\n",
      "-23.025533753649597\n"
     ]
    }
   ],
   "source": [
    "for i in range(15):\n",
    "    slope_m=2*np.sum((y-X*m-b)*-X)\n",
    "    m=m-(slope_m)*0.01\n",
    "    print(m)"
   ]
  },
  {
   "cell_type": "markdown",
   "id": "2fc846de",
   "metadata": {},
   "source": [
    "## nice.. values are convereging :)\n",
    "## Lets do more iterations.."
   ]
  },
  {
   "cell_type": "code",
   "execution_count": 72,
   "id": "7d809ea5",
   "metadata": {},
   "outputs": [
    {
     "name": "stdout",
     "output_type": "stream",
     "text": [
      "-15.429281013142559\n",
      "-9.659144553167144\n",
      "-5.276131519754665\n",
      "-1.9467816188780556\n",
      "0.5822025931166293\n",
      "2.5032266173065727\n",
      "3.9624422517941644\n",
      "5.070866842595891\n",
      "5.912829500106345\n",
      "6.552386870562477\n",
      "7.038196575370772\n",
      "7.407219090297931\n",
      "7.687529704053379\n",
      "7.900454490497547\n",
      "8.06219279956439\n"
     ]
    }
   ],
   "source": [
    "for i in range(15):\n",
    "    slope_m=2*np.sum((y-X*m-b)*-X)\n",
    "    m=m-(slope_m)*0.01\n",
    "    print(m)"
   ]
  },
  {
   "cell_type": "code",
   "execution_count": 74,
   "id": "411ec544",
   "metadata": {
    "scrolled": true
   },
   "outputs": [
    {
     "name": "stdout",
     "output_type": "stream",
     "text": [
      "8.566972704974074\n",
      "8.568482042690864\n",
      "8.56962854016634\n",
      "8.570499423101717\n",
      "8.571160948402342\n",
      "8.571663445013069\n",
      "8.572045142951989\n",
      "8.572335081855986\n",
      "8.572555320320696\n",
      "8.572722614121801\n",
      "8.572849690996973\n",
      "8.572946218974081\n",
      "8.573019541916215\n",
      "8.573075238243893\n",
      "8.573117545342143\n",
      "8.573149681941393\n",
      "8.573174092998972\n",
      "8.573192635711829\n",
      "8.573206720812362\n",
      "8.573217419897148\n",
      "8.573225546954175\n",
      "8.57323172029117\n",
      "8.573236409576545\n",
      "8.573239971571837\n",
      "8.573242677274191\n"
     ]
    }
   ],
   "source": [
    "for i in range(25):\n",
    "    slope_m=2*np.sum((y-X*m-b)*-X)\n",
    "    m=m-(slope_m)*0.01\n",
    "    print(m)"
   ]
  },
  {
   "cell_type": "markdown",
   "id": "c48a9409",
   "metadata": {},
   "source": [
    "## noice.."
   ]
  },
  {
   "cell_type": "code",
   "execution_count": 75,
   "id": "4315ed0a",
   "metadata": {},
   "outputs": [
    {
     "data": {
      "text/plain": [
       "[<matplotlib.lines.Line2D at 0x2a476bf36d0>]"
      ]
     },
     "execution_count": 75,
     "metadata": {},
     "output_type": "execute_result"
    },
    {
     "data": {
      "image/png": "[encoded data removed]",
      "text/plain": [
       "<Figure size 500x300 with 1 Axes>"
      ]
     },
     "metadata": {},
     "output_type": "display_data"
    }
   ],
   "source": [
    "plt.figure(figsize=(5,3))\n",
    "plt.scatter(X,y)\n",
    "plt.plot(X,ml.predict(X),color='red')\n",
    "plt.plot(X,X*m+b,color='blue')"
   ]
  },
  {
   "cell_type": "markdown",
   "id": "ad782895",
   "metadata": {},
   "source": [
    "## Now our line is perfectly alligned with goal line\n",
    "## Its just matter of intercept now"
   ]
  },
  {
   "cell_type": "markdown",
   "id": "13b28a94",
   "metadata": {},
   "source": [
    " ## Slope of 'b'  w.r.t.  loss_funtion"
   ]
  },
  {
   "cell_type": "code",
   "execution_count": 76,
   "id": "cd3394e3",
   "metadata": {},
   "outputs": [],
   "source": [
    "slope_b=2*np.sum((y-X*m-b)*-1)"
   ]
  },
  {
   "cell_type": "code",
   "execution_count": 77,
   "id": "0e37017e",
   "metadata": {},
   "outputs": [
    {
     "name": "stdout",
     "output_type": "stream",
     "text": [
      "-152.489011420661\n"
     ]
    }
   ],
   "source": [
    "print(slope_b)"
   ]
  },
  {
   "cell_type": "code",
   "execution_count": 78,
   "id": "c332bc23",
   "metadata": {},
   "outputs": [],
   "source": [
    "## Update function\n",
    "b=b-slope_b*0.1"
   ]
  },
  {
   "cell_type": "code",
   "execution_count": 79,
   "id": "21761d3b",
   "metadata": {},
   "outputs": [
    {
     "name": "stdout",
     "output_type": "stream",
     "text": [
      "8.573242677274191\n"
     ]
    }
   ],
   "source": [
    "print(m)"
   ]
  },
  {
   "cell_type": "code",
   "execution_count": 80,
   "id": "ad66d2ce",
   "metadata": {},
   "outputs": [
    {
     "data": {
      "text/plain": [
       "[<matplotlib.lines.Line2D at 0x2a476c7afb0>]"
      ]
     },
     "execution_count": 80,
     "metadata": {},
     "output_type": "execute_result"
    },
    {
     "data": {
      "image/png": "[encoded data removed]",
      "text/plain": [
       "<Figure size 500x300 with 1 Axes>"
      ]
     },
     "metadata": {},
     "output_type": "display_data"
    }
   ],
   "source": [
    "plt.figure(figsize=(5,3))\n",
    "plt.scatter(X,y)\n",
    "plt.plot(X,ml.predict(X),color='red')\n",
    "plt.plot(X,X*m+b,color='blue')"
   ]
  },
  {
   "cell_type": "markdown",
   "id": "b12b7783",
   "metadata": {},
   "source": [
    "## Lets do iterations.."
   ]
  },
  {
   "cell_type": "code",
   "execution_count": 81,
   "id": "c775601a",
   "metadata": {},
   "outputs": [
    {
     "name": "stdout",
     "output_type": "stream",
     "text": [
      "-18.298681370479322\n",
      "55.5060001571206\n",
      "-106.86429920359924\n",
      "250.35035938998445\n",
      "-535.5218895158997\n",
      "1193.3970580770456\n",
      "-2610.224626627434\n",
      "5757.743079722422\n",
      "-12651.785874247264\n",
      "27849.177824486043\n",
      "-61252.94231272722\n",
      "134771.72198914195\n",
      "-296482.5394749703\n",
      "652276.8357460769\n",
      "-1434993.7897402274\n"
     ]
    }
   ],
   "source": [
    "for i in range(15):\n",
    "    slope_b=slope_b=2*np.sum((y-X*m-b)*-1)\n",
    "    b=b-slope_b*0.1\n",
    "    print(b)"
   ]
  },
  {
   "cell_type": "markdown",
   "id": "1141ae18",
   "metadata": {},
   "source": [
    "## Oops..same problem..No worries ,lets just reduce the 0.1 to 0.01"
   ]
  },
  {
   "cell_type": "code",
   "execution_count": 82,
   "id": "2bd439f8",
   "metadata": {},
   "outputs": [
    {
     "name": "stdout",
     "output_type": "stream",
     "text": [
      "-1434993.7897402274\n"
     ]
    }
   ],
   "source": [
    "print(b)"
   ]
  },
  {
   "cell_type": "code",
   "execution_count": 83,
   "id": "b736362c",
   "metadata": {},
   "outputs": [
    {
     "name": "stdout",
     "output_type": "stream",
     "text": [
      "-975794.2521332405\n",
      "-663538.5665604894\n",
      "-451204.7003710186\n",
      "-306817.6713621784\n",
      "-208634.4916361671\n",
      "-141869.9294224794\n",
      "-96470.02711717179\n",
      "-65598.0935495626\n",
      "-44605.17872358837\n",
      "-30329.996641925885\n",
      "-20622.872826395396\n",
      "-14022.028631834663\n",
      "-9533.454579533365\n",
      "-6481.224223968482\n",
      "-4405.707582184361\n",
      "-2994.356265771159\n",
      "-2034.6373706101815\n",
      "-1382.028521900717\n",
      "-938.2545047782808\n",
      "-636.4881731350242\n",
      "-431.28706761760986\n",
      "-291.75031586576813\n",
      "-196.8653246745157\n",
      "-132.34353066446408\n",
      "-88.46871073762897\n"
     ]
    }
   ],
   "source": [
    "for i in range(25):\n",
    "    slope_b=slope_b=2*np.sum((y-X*m-b)*-1)\n",
    "    b=b-slope_b*0.01\n",
    "    print(b)"
   ]
  },
  {
   "cell_type": "code",
   "execution_count": 84,
   "id": "08cbece1",
   "metadata": {},
   "outputs": [
    {
     "name": "stdout",
     "output_type": "stream",
     "text": [
      "-58.633833187381086\n",
      "-38.34611645321253\n",
      "-24.55046907397791\n",
      "-15.169428856098369\n",
      "-8.79032150794028\n",
      "-4.452528511192781\n",
      "-1.5028292734044806\n",
      "0.5029662082915634\n",
      "1.8669071358448732\n",
      "2.794386966581124\n",
      "3.4250732514817743\n",
      "3.853939925214217\n",
      "4.145569263352278\n",
      "4.343877213286159\n",
      "4.478726619241199\n",
      "4.570424215290625\n",
      "4.632778580604235\n",
      "4.67517954901749\n",
      "4.704012207538503\n",
      "4.723618415332792\n",
      "4.736950636632909\n",
      "4.746016547116988\n",
      "4.7521813662461625\n",
      "4.756373443254001\n",
      "4.75922405561933\n"
     ]
    }
   ],
   "source": [
    "for i in range(25):\n",
    "    slope_b=slope_b=2*np.sum((y-X*m-b)*-1)\n",
    "    b=b-slope_b*0.01\n",
    "    print(b)"
   ]
  },
  {
   "cell_type": "code",
   "execution_count": 85,
   "id": "9c4e1b15",
   "metadata": {},
   "outputs": [
    {
     "name": "stdout",
     "output_type": "stream",
     "text": [
      "4.761162472027754\n",
      "4.762480595185483\n",
      "4.763376918932739\n",
      "4.763986419080872\n",
      "4.764400879181603\n",
      "4.7646827120501\n",
      "4.764874358400679\n",
      "4.765004677919071\n",
      "4.765093295191579\n",
      "4.765153554936884\n",
      "4.765194531563691\n",
      "4.7652223956699205\n",
      "4.765241343262156\n",
      "4.765254227624876\n",
      "4.765262988991526\n",
      "4.765268946720847\n",
      "4.765272997976786\n",
      "4.765275752830824\n",
      "4.765277626131571\n",
      "4.765278899976078\n",
      "4.765279766190343\n",
      "4.765280355216043\n",
      "4.76528075575352\n",
      "4.765281028119004\n",
      "4.765281213327532\n"
     ]
    }
   ],
   "source": [
    "for i in range(25):\n",
    "    slope_b=slope_b=2*np.sum((y-X*m-b)*-1)\n",
    "    b=b-slope_b*0.01\n",
    "    print(b)"
   ]
  },
  {
   "cell_type": "markdown",
   "id": "7c35493c",
   "metadata": {},
   "source": [
    "## Noice.. Again..:)"
   ]
  },
  {
   "cell_type": "code",
   "execution_count": 86,
   "id": "509b5a73",
   "metadata": {
    "scrolled": true
   },
   "outputs": [
    {
     "data": {
      "text/plain": [
       "[<matplotlib.lines.Line2D at 0x2a476cf24a0>]"
      ]
     },
     "execution_count": 86,
     "metadata": {},
     "output_type": "execute_result"
    },
    {
     "data": {
      "image/png": "[encoded data removed]",
      "text/plain": [
       "<Figure size 500x300 with 1 Axes>"
      ]
     },
     "metadata": {},
     "output_type": "display_data"
    }
   ],
   "source": [
    "plt.figure(figsize=(5,3))\n",
    "plt.scatter(X,y)\n",
    "plt.plot(X,ml.predict(X),color='red')\n",
    "plt.plot(X,X*m+b,color='blue')"
   ]
  },
  {
   "cell_type": "markdown",
   "id": "ba42e787",
   "metadata": {},
   "source": [
    "## Almost there.."
   ]
  },
  {
   "cell_type": "code",
   "execution_count": 87,
   "id": "0f006e09",
   "metadata": {},
   "outputs": [
    {
     "name": "stdout",
     "output_type": "stream",
     "text": [
      "4.765281339269332\n",
      "4.765281424909755\n",
      "4.765281483145244\n",
      "4.765281522745376\n",
      "4.765281549673466\n",
      "4.765281567984567\n",
      "4.765281580436116\n",
      "4.765281588903169\n",
      "4.765281594660765\n",
      "4.76528159857593\n",
      "4.765281601238242\n",
      "4.7652816030486145\n",
      "4.765281604279668\n",
      "4.765281605116784\n",
      "4.765281605686024\n",
      "4.765281606073106\n",
      "4.765281606336322\n",
      "4.765281606515309\n",
      "4.7652816066370205\n",
      "4.765281606719784\n",
      "4.765281606776063\n",
      "4.765281606814333\n",
      "4.7652816068403565\n",
      "4.765281606858053\n",
      "4.765281606870086\n"
     ]
    }
   ],
   "source": [
    "for i in range(25):\n",
    "    slope_b=slope_b=2*np.sum((y-X*m-b)*-1)\n",
    "    b=b-slope_b*0.01\n",
    "    print(b)"
   ]
  },
  {
   "cell_type": "code",
   "execution_count": 88,
   "id": "58226210",
   "metadata": {},
   "outputs": [
    {
     "data": {
      "text/plain": [
       "[<matplotlib.lines.Line2D at 0x2a476d7f220>]"
      ]
     },
     "execution_count": 88,
     "metadata": {},
     "output_type": "execute_result"
    },
    {
     "data": {
      "image/png": "[encoded data removed]",
      "text/plain": [
       "<Figure size 500x300 with 1 Axes>"
      ]
     },
     "metadata": {},
     "output_type": "display_data"
    }
   ],
   "source": [
    "plt.figure(figsize=(5,3))\n",
    "plt.scatter(X,y)\n",
    "plt.plot(X,ml.predict(X),color='red')\n",
    "plt.plot(X,X*m+b,color='blue')"
   ]
  },
  {
   "cell_type": "code",
   "execution_count": 89,
   "id": "6bf02cae",
   "metadata": {},
   "outputs": [],
   "source": [
    "# Its okayy "
   ]
  },
  {
   "cell_type": "code",
   "execution_count": 90,
   "id": "e89255bd",
   "metadata": {},
   "outputs": [
    {
     "name": "stdout",
     "output_type": "stream",
     "text": [
      "8.573242677274191\n",
      "4.765281606870086\n"
     ]
    }
   ],
   "source": [
    "# Lets see final values of m and b\n",
    "print(m)\n",
    "print(b)"
   ]
  },
  {
   "cell_type": "code",
   "execution_count": 91,
   "id": "f669a955",
   "metadata": {
    "scrolled": true
   },
   "outputs": [
    {
     "name": "stdout",
     "output_type": "stream",
     "text": [
      "[9.16237847]\n",
      "4.392775722074516\n"
     ]
    }
   ],
   "source": [
    "# Actual values\n",
    "print(ml.coef_)\n",
    "print(ml.intercept_)"
   ]
  },
  {
   "cell_type": "markdown",
   "id": "ccc67df1",
   "metadata": {},
   "source": [
    "# I think I did good for today..:)\n",
    "# I am fine for today :))"
   ]
  }
 ],
 "metadata": {
  "kernelspec": {
   "display_name": "Python 3 (ipykernel)",
   "language": "python",
   "name": "python3"
  },
  "language_info": {
   "codemirror_mode": {
    "name": "ipython",
    "version": 3
   },
   "file_extension": ".py",
   "mimetype": "text/x-python",
   "name": "python",
   "nbconvert_exporter": "python",
   "pygments_lexer": "ipython3",
   "version": "3.10.10"
  }
 },
 "nbformat": 4,
 "nbformat_minor": 5
}
